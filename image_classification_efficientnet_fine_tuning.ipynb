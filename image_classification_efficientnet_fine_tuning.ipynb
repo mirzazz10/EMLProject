{
 "cells": [
  {
   "cell_type": "markdown",
   "metadata": {
    "id": "1DJfdSAr1oGL"
   },
   "source": [
    "# Image classification via fine-tuning with EfficientNet\n",
    "\n",
    "**Author:** [Yixing Fu](https://github.com/yixingfu)<br>\n",
    "**Date created:** 2020/06/30<br>\n",
    "**Last modified:** 2023/07/10<br>\n",
    "**Description:** Use EfficientNet with weights pre-trained on imagenet for Stanford Dogs classification."
   ]
  },
  {
   "cell_type": "markdown",
   "metadata": {
    "id": "WgcH_7Ra1oGO"
   },
   "source": [
    "## Introduction: what is EfficientNet\n",
    "\n",
    "EfficientNet, first introduced in [Tan and Le, 2019](https://arxiv.org/abs/1905.11946)\n",
    "is among the most efficient models (i.e. requiring least FLOPS for inference)\n",
    "that reaches State-of-the-Art accuracy on both\n",
    "imagenet and common image classification transfer learning tasks.\n",
    "\n",
    "The smallest base model is similar to [MnasNet](https://arxiv.org/abs/1807.11626), which\n",
    "reached near-SOTA with a significantly smaller model. By introducing a heuristic way to\n",
    "scale the model, EfficientNet provides a family of models (B0 to B7) that represents a\n",
    "good combination of efficiency and accuracy on a variety of scales. Such a scaling\n",
    "heuristics (compound-scaling, details see\n",
    "[Tan and Le, 2019](https://arxiv.org/abs/1905.11946)) allows the\n",
    "efficiency-oriented base model (B0) to surpass models at every scale, while avoiding\n",
    "extensive grid-search of hyperparameters.\n",
    "\n",
    "A summary of the latest updates on the model is available at\n",
    "[here](https://github.com/tensorflow/tpu/tree/master/models/official/efficientnet), where various\n",
    "augmentation schemes and semi-supervised learning approaches are applied to further\n",
    "improve the imagenet performance of the models. These extensions of the model can be used\n",
    "by updating weights without changing model architecture.\n",
    "\n",
    "## B0 to B7 variants of EfficientNet\n",
    "\n",
    "*(This section provides some details on \"compound scaling\", and can be skipped\n",
    "if you're only interested in using the models)*\n",
    "\n",
    "Based on the [original paper](https://arxiv.org/abs/1905.11946) people may have the\n",
    "impression that EfficientNet is a continuous family of models created by arbitrarily\n",
    "choosing scaling factor in as Eq.(3) of the paper.  However, choice of resolution,\n",
    "depth and width are also restricted by many factors:\n",
    "\n",
    "- Resolution: Resolutions not divisible by 8, 16, etc. cause zero-padding near boundaries\n",
    "of some layers which wastes computational resources. This especially applies to smaller\n",
    "variants of the model, hence the input resolution for B0 and B1 are chosen as 224 and\n",
    "240.\n",
    "\n",
    "- Depth and width: The building blocks of EfficientNet demands channel size to be\n",
    "multiples of 8.\n",
    "\n",
    "- Resource limit: Memory limitation may bottleneck resolution when depth\n",
    "and width can still increase. In such a situation, increasing depth and/or\n",
    "width but keep resolution can still improve performance.\n",
    "\n",
    "As a result, the depth, width and resolution of each variant of the EfficientNet models\n",
    "are hand-picked and proven to produce good results, though they may be significantly\n",
    "off from the compound scaling formula.\n",
    "Therefore, the keras implementation (detailed below) only provide these 8 models, B0 to B7,\n",
    "instead of allowing arbitray choice of width / depth / resolution parameters.\n",
    "\n",
    "## Keras implementation of EfficientNet\n",
    "\n",
    "An implementation of EfficientNet B0 to B7 has been shipped with Keras since v2.3. To\n",
    "use EfficientNetB0 for classifying 1000 classes of images from ImageNet, run:\n",
    "\n",
    "```python\n",
    "from tensorflow.keras.applications import EfficientNetB0\n",
    "model = EfficientNetB0(weights='imagenet')\n",
    "```\n",
    "\n",
    "This model takes input images of shape `(224, 224, 3)`, and the input data should be in the\n",
    "range `[0, 255]`. Normalization is included as part of the model.\n",
    "\n",
    "Because training EfficientNet on ImageNet takes a tremendous amount of resources and\n",
    "several techniques that are not a part of the model architecture itself. Hence the Keras\n",
    "implementation by default loads pre-trained weights obtained via training with\n",
    "[AutoAugment](https://arxiv.org/abs/1805.09501).\n",
    "\n",
    "For B0 to B7 base models, the input shapes are different. Here is a list of input shape\n",
    "expected for each model:\n",
    "\n",
    "| Base model | resolution|\n",
    "|----------------|-----|\n",
    "| EfficientNetB0 | 224 |\n",
    "| EfficientNetB1 | 240 |\n",
    "| EfficientNetB2 | 260 |\n",
    "| EfficientNetB3 | 300 |\n",
    "| EfficientNetB4 | 380 |\n",
    "| EfficientNetB5 | 456 |\n",
    "| EfficientNetB6 | 528 |\n",
    "| EfficientNetB7 | 600 |\n",
    "\n",
    "When the model is intended for transfer learning, the Keras implementation\n",
    "provides a option to remove the top layers:\n",
    "```\n",
    "model = EfficientNetB0(include_top=False, weights='imagenet')\n",
    "```\n",
    "This option excludes the final `Dense` layer that turns 1280 features on the penultimate\n",
    "layer into prediction of the 1000 ImageNet classes. Replacing the top layer with custom\n",
    "layers allows using EfficientNet as a feature extractor in a transfer learning workflow.\n",
    "\n",
    "Another argument in the model constructor worth noticing is `drop_connect_rate` which controls\n",
    "the dropout rate responsible for [stochastic depth](https://arxiv.org/abs/1603.09382).\n",
    "This parameter serves as a toggle for extra regularization in finetuning, but does not\n",
    "affect loaded weights. For example, when stronger regularization is desired, try:\n",
    "\n",
    "```python\n",
    "model = EfficientNetB0(weights='imagenet', drop_connect_rate=0.4)\n",
    "```\n",
    "The default value is 0.2.\n",
    "\n",
    "## Example: EfficientNetB0 for Stanford Dogs.\n",
    "\n",
    "EfficientNet is capable of a wide range of image classification tasks.\n",
    "This makes it a good model for transfer learning.\n",
    "As an end-to-end example, we will show using pre-trained EfficientNetB0 on\n",
    "[Stanford Dogs](http://vision.stanford.edu/aditya86/ImageNetDogs/main.html) dataset."
   ]
  },
  {
   "cell_type": "markdown",
   "metadata": {
    "id": "zlNo6WCQ1oGP"
   },
   "source": [
    "## Setup and data loading"
   ]
  },
  {
   "cell_type": "code",
   "execution_count": 6,
   "metadata": {
    "id": "gCvWUkDw1oGP",
    "tags": []
   },
   "outputs": [],
   "source": [
    "import numpy as np\n",
    "#import tensorflow_datasets as tfds\n",
    "import tensorflow as tf  # For tf.data\n",
    "import matplotlib.pyplot as plt\n",
    "import keras\n",
    "from keras import layers\n",
    "from keras.applications import EfficientNetB0\n",
    "\n",
    "# IMG_SIZE is determined by EfficientNet model choice\n",
    "IMG_SIZE = 256\n",
    "BATCH_SIZE = 16\n"
   ]
  },
  {
   "cell_type": "markdown",
   "metadata": {
    "id": "EygyPFgx1oGQ"
   },
   "source": [
    "### Loading data\n",
    "\n",
    "Here we load data from [tensorflow_datasets](https://www.tensorflow.org/datasets)\n",
    "(hereafter TFDS).\n",
    "Stanford Dogs dataset is provided in\n",
    "TFDS as [stanford_dogs](https://www.tensorflow.org/datasets/catalog/stanford_dogs).\n",
    "It features 20,580 images that belong to 120 classes of dog breeds\n",
    "(12,000 for training and 8,580 for testing).\n",
    "\n",
    "By simply changing `dataset_name` below, you may also try this notebook for\n",
    "other datasets in TFDS such as\n",
    "[cifar10](https://www.tensorflow.org/datasets/catalog/cifar10),\n",
    "[cifar100](https://www.tensorflow.org/datasets/catalog/cifar100),\n",
    "[food101](https://www.tensorflow.org/datasets/catalog/food101),\n",
    "etc. When the images are much smaller than the size of EfficientNet input,\n",
    "we can simply upsample the input images. It has been shown in\n",
    "[Tan and Le, 2019](https://arxiv.org/abs/1905.11946) that transfer learning\n",
    "result is better for increased resolution even if input images remain small."
   ]
  },
  {
   "cell_type": "code",
   "execution_count": null,
   "metadata": {
    "id": "cv5av9fJ1oGQ"
   },
   "outputs": [],
   "source": [
    "dataset_name = \"stanford_dogs\"\n",
    "(ds_train, ds_test), ds_info = tfds.load(\n",
    "    dataset_name, split=[\"train\", \"test\"], with_info=True, as_supervised=True\n",
    ")\n",
    "NUM_CLASSES = ds_info.features[\"label\"].num_classes\n"
   ]
  },
  {
   "cell_type": "markdown",
   "metadata": {
    "id": "kxDJ73zm1oGR"
   },
   "source": [
    "When the dataset include images with various size, we need to resize them into a\n",
    "shared size. The Stanford Dogs dataset includes only images at least 200x200\n",
    "pixels in size. Here we resize the images to the input size needed for EfficientNet."
   ]
  },
  {
   "cell_type": "code",
   "execution_count": null,
   "metadata": {
    "id": "kxl1CJQB1oGR"
   },
   "outputs": [],
   "source": [
    "size = (IMG_SIZE, IMG_SIZE)\n",
    "ds_train = ds_train.map(lambda image, label: (tf.image.resize(image, size), label))\n",
    "ds_test = ds_test.map(lambda image, label: (tf.image.resize(image, size), label))"
   ]
  },
  {
   "cell_type": "markdown",
   "metadata": {
    "id": "k2-jHmF21oGS"
   },
   "source": [
    "### Visualizing the data\n",
    "\n",
    "The following code shows the first 9 images with their labels."
   ]
  },
  {
   "cell_type": "code",
   "execution_count": null,
   "metadata": {
    "id": "fw5HRPLi1oGS"
   },
   "outputs": [],
   "source": [
    "\n",
    "def format_label(label):\n",
    "    string_label = label_info.int2str(label)\n",
    "    return string_label.split(\"-\")[1]\n",
    "\n",
    "\n",
    "label_info = ds_info.features[\"label\"]\n",
    "for i, (image, label) in enumerate(ds_train.take(9)):\n",
    "    ax = plt.subplot(3, 3, i + 1)\n",
    "    plt.imshow(image.numpy().astype(\"uint8\"))\n",
    "    plt.title(\"{}\".format(format_label(label)))\n",
    "    plt.axis(\"off\")\n"
   ]
  },
  {
   "cell_type": "markdown",
   "metadata": {
    "id": "KCQ9I27f1oGS"
   },
   "source": [
    "### Data augmentation\n",
    "\n",
    "We can use the preprocessing layers APIs for image augmentation."
   ]
  },
  {
   "cell_type": "code",
   "execution_count": null,
   "metadata": {
    "id": "DKr2q8ug1oGS"
   },
   "outputs": [],
   "source": [
    "img_augmentation_layers = [\n",
    "    layers.RandomRotation(factor=0.15),\n",
    "    layers.RandomTranslation(height_factor=0.1, width_factor=0.1),\n",
    "    layers.RandomFlip(),\n",
    "    layers.RandomContrast(factor=0.1),\n",
    "]\n",
    "\n",
    "\n",
    "def img_augmentation(images):\n",
    "    for layer in img_augmentation_layers:\n",
    "        images = layer(images)\n",
    "    return images\n"
   ]
  },
  {
   "cell_type": "markdown",
   "metadata": {
    "id": "FgtyUXDZ1oGT"
   },
   "source": [
    "This `Sequential` model object can be used both as a part of\n",
    "the model we later build, and as a function to preprocess\n",
    "data before feeding into the model. Using them as function makes\n",
    "it easy to visualize the augmented images. Here we plot 9 examples\n",
    "of augmentation result of a given figure."
   ]
  },
  {
   "cell_type": "code",
   "execution_count": null,
   "metadata": {
    "id": "9nekzhly1oGT"
   },
   "outputs": [],
   "source": [
    "for image, label in ds_train.take(1):\n",
    "    for i in range(9):\n",
    "        ax = plt.subplot(3, 3, i + 1)\n",
    "        aug_img = img_augmentation(np.expand_dims(image.numpy(), axis=0))\n",
    "        aug_img = np.array(aug_img)\n",
    "        plt.imshow(aug_img[0].astype(\"uint8\"))\n",
    "        plt.title(\"{}\".format(format_label(label)))\n",
    "        plt.axis(\"off\")\n"
   ]
  },
  {
   "cell_type": "markdown",
   "metadata": {
    "id": "Z6qU0QWf1oGT"
   },
   "source": [
    "### Prepare inputs\n",
    "\n",
    "Once we verify the input data and augmentation are working correctly,\n",
    "we prepare dataset for training. The input data are resized to uniform\n",
    "`IMG_SIZE`. The labels are put into one-hot\n",
    "(a.k.a. categorical) encoding. The dataset is batched.\n",
    "\n",
    "Note: `prefetch` and `AUTOTUNE` may in some situation improve\n",
    "performance, but depends on environment and the specific dataset used.\n",
    "See this [guide](https://www.tensorflow.org/guide/data_performance)\n",
    "for more information on data pipeline performance."
   ]
  },
  {
   "cell_type": "code",
   "execution_count": 7,
   "metadata": {
    "id": "gEFdtNGV1oGT",
    "tags": []
   },
   "outputs": [
    {
     "name": "stdout",
     "output_type": "stream",
     "text": [
      "Found 510 files belonging to 3 classes.\n",
      "Found 150 files belonging to 3 classes.\n"
     ]
    }
   ],
   "source": [
    "\n",
    "# # One-hot / categorical encoding\n",
    "# def input_preprocess_train(image, label):\n",
    "#     image = img_augmentation(image)\n",
    "#     label = tf.one_hot(label, NUM_CLASSES)\n",
    "#     return image, label\n",
    "\n",
    "\n",
    "# def input_preprocess_test(image, label):\n",
    "#     label = tf.one_hot(label, NUM_CLASSES)\n",
    "#     return image, label\n",
    "\n",
    "\n",
    "# ds_train = ds_train.map(input_preprocess_train, num_parallel_calls=tf.data.AUTOTUNE)\n",
    "# ds_train = ds_train.batch(batch_size=BATCH_SIZE, drop_remainder=True)\n",
    "# ds_train = ds_train.prefetch(tf.data.AUTOTUNE)\n",
    "\n",
    "# ds_test = ds_test.map(input_preprocess_test, num_parallel_calls=tf.data.AUTOTUNE)\n",
    "# ds_test = ds_test.batch(batch_size=BATCH_SIZE, drop_remainder=True)\n",
    "\n",
    "from tensorflow import keras\n",
    "\n",
    "train_ds = keras.utils.image_dataset_from_directory(\n",
    "    directory='data/train/',\n",
    "    labels='inferred',\n",
    "    label_mode='categorical',\n",
    "    batch_size=32,\n",
    "    image_size=(256, 256))\n",
    "validation_ds = keras.utils.image_dataset_from_directory(\n",
    "    directory='data/val/',\n",
    "    labels='inferred',\n",
    "    label_mode='categorical',\n",
    "    batch_size=32,\n",
    "    image_size=(256, 256))\n"
   ]
  },
  {
   "cell_type": "markdown",
   "metadata": {
    "id": "wCJl0svO1oGU"
   },
   "source": [
    "## Transfer learning from pre-trained weights\n",
    "\n",
    "Here we initialize the model with pre-trained ImageNet weights,\n",
    "and we fine-tune it on our own dataset."
   ]
  },
  {
   "cell_type": "code",
   "execution_count": 8,
   "metadata": {
    "id": "XBT0uThF1oGU",
    "tags": []
   },
   "outputs": [],
   "source": [
    "\n",
    "def build_model(num_classes):\n",
    "    inputs = layers.Input(shape=(IMG_SIZE, IMG_SIZE, 3))\n",
    "    model = EfficientNetB0(include_top=False, input_tensor=inputs, weights=\"imagenet\")\n",
    "\n",
    "    # Freeze the pretrained weights\n",
    "    model.trainable = False\n",
    "\n",
    "    # Rebuild top\n",
    "    x = layers.GlobalAveragePooling2D(name=\"avg_pool\")(model.output)\n",
    "    x = layers.BatchNormalization()(x)\n",
    "\n",
    "    top_dropout_rate = 0.2\n",
    "    x = layers.Dropout(top_dropout_rate, name=\"top_dropout\")(x)\n",
    "    outputs = layers.Dense(num_classes, activation=\"softmax\", name=\"pred\")(x)\n",
    "\n",
    "    # Compile\n",
    "    model = keras.Model(inputs, outputs, name=\"EfficientNet\")\n",
    "    optimizer = keras.optimizers.Adam(learning_rate=1e-2)\n",
    "    model.compile(\n",
    "        optimizer=optimizer, loss=\"categorical_crossentropy\", metrics=[\"accuracy\"]\n",
    "    )\n",
    "    return model\n"
   ]
  },
  {
   "cell_type": "markdown",
   "metadata": {
    "id": "Q5mA-t8t1oGU"
   },
   "source": [
    "The first step to transfer learning is to freeze all layers and train only the top\n",
    "layers. For this step, a relatively large learning rate (1e-2) can be used.\n",
    "Note that validation accuracy and loss will usually be better than training\n",
    "accuracy and loss. This is because the regularization is strong, which only\n",
    "suppresses training-time metrics.\n",
    "\n",
    "Note that the convergence may take up to 50 epochs depending on choice of learning rate.\n",
    "If image augmentation layers were not\n",
    "applied, the validation accuracy may only reach ~60%."
   ]
  },
  {
   "cell_type": "code",
   "execution_count": 10,
   "metadata": {
    "id": "BVjTcFj11oGU",
    "tags": []
   },
   "outputs": [
    {
     "name": "stdout",
     "output_type": "stream",
     "text": [
      "Epoch 1/5\n",
      "16/16 [==============================] - 27s 1s/step - loss: 0.1325 - accuracy: 0.9510 - val_loss: 0.5414 - val_accuracy: 0.7533\n",
      "Epoch 2/5\n",
      "16/16 [==============================] - 21s 1s/step - loss: 0.0050 - accuracy: 0.9980 - val_loss: 0.0218 - val_accuracy: 1.0000\n",
      "Epoch 3/5\n",
      "16/16 [==============================] - 20s 1s/step - loss: 0.0154 - accuracy: 0.9961 - val_loss: 0.0453 - val_accuracy: 0.9933\n",
      "Epoch 4/5\n",
      "16/16 [==============================] - 20s 1s/step - loss: 0.0060 - accuracy: 0.9961 - val_loss: 0.0063 - val_accuracy: 1.0000\n",
      "Epoch 5/5\n",
      "16/16 [==============================] - 21s 1s/step - loss: 9.4024e-06 - accuracy: 1.0000 - val_loss: 0.0013 - val_accuracy: 1.0000\n"
     ]
    },
    {
     "ename": "NameError",
     "evalue": "name 'plot_hist' is not defined",
     "output_type": "error",
     "traceback": [
      "\u001b[1;31m---------------------------------------------------------------------------\u001b[0m",
      "\u001b[1;31mNameError\u001b[0m                                 Traceback (most recent call last)",
      "Cell \u001b[1;32mIn[10], line 5\u001b[0m\n\u001b[0;32m      3\u001b[0m epochs \u001b[38;5;241m=\u001b[39m \u001b[38;5;241m5\u001b[39m  \u001b[38;5;66;03m# @param {type: \"slider\", min:8, max:80}\u001b[39;00m\n\u001b[0;32m      4\u001b[0m hist \u001b[38;5;241m=\u001b[39m model\u001b[38;5;241m.\u001b[39mfit(train_ds, epochs\u001b[38;5;241m=\u001b[39mepochs, validation_data\u001b[38;5;241m=\u001b[39mvalidation_ds)\n\u001b[1;32m----> 5\u001b[0m \u001b[43mplot_hist\u001b[49m(hist)\n",
      "\u001b[1;31mNameError\u001b[0m: name 'plot_hist' is not defined"
     ]
    }
   ],
   "source": [
    "model = build_model(num_classes=3)\n",
    "\n",
    "epochs = 5  # @param {type: \"slider\", min:8, max:80}\n",
    "hist = model.fit(train_ds, epochs=epochs, validation_data=validation_ds)\n"
   ]
  },
  {
   "cell_type": "code",
   "execution_count": 11,
   "metadata": {
    "tags": []
   },
   "outputs": [
    {
     "name": "stdout",
     "output_type": "stream",
     "text": [
      "dict_keys(['loss', 'accuracy', 'val_loss', 'val_accuracy'])\n"
     ]
    },
    {
     "data": {
      "image/png": "[encoded data removed]",
      "text/plain": [
       "<Figure size 640x480 with 1 Axes>"
      ]
     },
     "metadata": {},
     "output_type": "display_data"
    },
    {
     "data": {
      "image/png": "[encoded data removed]",
      "text/plain": [
       "<Figure size 640x480 with 1 Axes>"
      ]
     },
     "metadata": {},
     "output_type": "display_data"
    }
   ],
   "source": [
    "print(hist.history.keys())\n",
    "# summarize history for accuracy\n",
    "plt.plot(hist.history['accuracy'])\n",
    "plt.plot(hist.history['val_accuracy'])\n",
    "plt.title('model accuracy')\n",
    "plt.ylabel('accuracy')\n",
    "plt.xlabel('epoch')\n",
    "plt.legend(['train', 'test'], loc='upper left')\n",
    "plt.show()\n",
    "# summarize history for loss\n",
    "plt.plot(hist.history['loss'])\n",
    "plt.plot(hist.history['val_loss'])\n",
    "plt.title('model loss')\n",
    "plt.ylabel('loss')\n",
    "plt.xlabel('epoch')\n",
    "plt.legend(['train', 'test'], loc='upper left')\n",
    "plt.show()"
   ]
  },
  {
   "cell_type": "code",
   "execution_count": 12,
   "metadata": {
    "tags": []
   },
   "outputs": [
    {
     "name": "stdout",
     "output_type": "stream",
     "text": [
      "Found 75 files belonging to 3 classes.\n"
     ]
    }
   ],
   "source": [
    "test_ds = keras.utils.image_dataset_from_directory(\n",
    "    directory='data/test/',\n",
    "    labels='inferred',\n",
    "    label_mode='categorical',\n",
    "    batch_size=32,\n",
    "    image_size=(256, 256))"
   ]
  },
  {
   "cell_type": "code",
   "execution_count": 13,
   "metadata": {
    "tags": []
   },
   "outputs": [
    {
     "name": "stdout",
     "output_type": "stream",
     "text": [
      "Test dataset evaluation\n",
      "3/3 [==============================] - 2s 639ms/step - loss: 0.0102 - accuracy: 1.0000\n"
     ]
    },
    {
     "data": {
      "text/plain": [
       "[0.01016953308135271, 1.0]"
      ]
     },
     "execution_count": 13,
     "metadata": {},
     "output_type": "execute_result"
    }
   ],
   "source": [
    "print(\"Test dataset evaluation\")\n",
    "model.evaluate(test_ds)"
   ]
  },
  {
   "cell_type": "code",
   "execution_count": 14,
   "metadata": {
    "tags": []
   },
   "outputs": [
    {
     "name": "stderr",
     "output_type": "stream",
     "text": [
      "C:\\Users\\mirza\\AppData\\Local\\Programs\\Python\\Python311\\Lib\\site-packages\\keras\\src\\engine\\training.py:3000: UserWarning: You are saving your model as an HDF5 file via `model.save()`. This file format is considered legacy. We recommend using instead the native Keras format, e.g. `model.save('my_model.keras')`.\n",
      "  saving_api.save_model(\n"
     ]
    }
   ],
   "source": [
    "model.save( 'classification_model.h5')"
   ]
  },
  {
   "cell_type": "code",
   "execution_count": null,
   "metadata": {},
   "outputs": [],
   "source": [
    "#https://keras.io/guides/transfer_learning/\n",
    "\n",
    "# reference "
   ]
  }
 ],
 "metadata": {
  "accelerator": "GPU",
  "colab": {
   "name": "image_classification_efficientnet_fine_tuning",
   "provenance": [],
   "toc_visible": true
  },
  "kernelspec": {
   "display_name": "Python 3 (ipykernel)",
   "language": "python",
   "name": "python3"
  },
  "language_info": {
   "codemirror_mode": {
    "name": "ipython",
    "version": 3
   },
   "file_extension": ".py",
   "mimetype": "text/x-python",
   "name": "python",
   "nbconvert_exporter": "python",
   "pygments_lexer": "ipython3",
   "version": "3.11.1"
  }
 },
 "nbformat": 4,
 "nbformat_minor": 4
}
